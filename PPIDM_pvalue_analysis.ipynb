{
 "cells": [
  {
   "cell_type": "markdown",
   "metadata": {},
   "source": [
    "# PPIDM (84 552 DDIs) - NEW CLASSIFICATION ANALYSIS  \n",
    "<br>  \n",
    "<br>  "
   ]
  },
  {
   "cell_type": "code",
   "execution_count": 16,
   "metadata": {
    "ExecuteTime": {
     "start_time": "2023-06-22T23:28:59.533593Z",
     "end_time": "2023-06-22T23:28:59.553279Z"
    }
   },
   "outputs": [],
   "source": [
    "import pickle\n",
    "\n",
    "# import useful libraries\n",
    "import pandas as pd\n",
    "from math import *\n",
    "import matplotlib.pyplot as plt\n",
    "import seaborn as sns\n",
    "from statistics import mean\n",
    "import matplotlib\n",
    "\n",
    "# ignore the warnings in this notebook\n",
    "import warnings\n",
    "warnings.filterwarnings('ignore')"
   ]
  },
  {
   "cell_type": "code",
   "execution_count": 2,
   "metadata": {
    "ExecuteTime": {
     "start_time": "2023-06-22T23:09:13.524241Z",
     "end_time": "2023-06-22T23:09:13.795125Z"
    },
    "scrolled": true
   },
   "outputs": [
    {
     "data": {
      "text/plain": "            D1       D2     SCORE  INTACT_SCORE                INTACT_PV  \\\n0      PF02769  PF13507  0.088072      0.011773                      0.0   \n1      PF02769  PF02843  0.115289      0.004793  1.4742268313510745e-247   \n2      PF02769  PF02844  0.115289      0.004793  1.4742268313510745e-247   \n3      PF02769  PF02769  0.560638      0.014245                      0.0   \n4      PF02769  PF18072  0.087038      0.004893                      0.0   \n...        ...      ...       ...           ...                      ...   \n45015  PF16011  PF16011  0.662252      0.000000                      NaN   \n45016  PF16560  PF16560  0.662252      0.000000                      NaN   \n45017  PF09633  PF09633  0.662252      0.000000                      NaN   \n45018  PF16753  PF16753  0.662252      0.000000                      NaN   \n45019  PF14514  PF14514  0.662252      0.000000                      NaN   \n\n       DIP_SCORE                   DIP_PV  MINT_SCORE                 MINT_PV  \\\n0       0.049507    7.406808766310296e-44    0.095130   3.849925148356953e-43   \n1       0.000000                      NaN    0.045835  1.4124323582002133e-46   \n2       0.000000                      NaN    0.045835  1.4124323582002133e-46   \n3       0.058824  1.4742056338156193e-134    0.117647  6.171672425554692e-135   \n4       0.000000                      NaN    0.064820   6.810781898441019e-25   \n...          ...                      ...         ...                     ...   \n45015   0.000000                      NaN    0.000000                     NaN   \n45016   0.000000                      NaN    0.000000                     NaN   \n45017   0.000000                      NaN    0.000000                     NaN   \n45018   0.000000                      NaN    0.000000                     NaN   \n45019   0.000000                      NaN    0.000000                     NaN   \n\n       HPRD_SCORE  ... BIOGRID_SCORE  BIOGRID_PV STRING_EXP_SCORE  \\\n0        0.000000  ...      0.008260         0.0         0.006164   \n1        0.353553  ...      0.009855         0.0         0.003335   \n2        0.353553  ...      0.009855         0.0         0.003335   \n3        0.250000  ...      0.011461         0.0         0.003066   \n4        0.000000  ...      0.008260         0.0         0.003813   \n...           ...  ...           ...         ...              ...   \n45015    0.000000  ...      0.000000         NaN         0.000000   \n45016    0.000000  ...      0.000000         NaN         0.000000   \n45017    0.000000  ...      0.000000         NaN         0.000000   \n45018    0.000000  ...      0.000000         NaN         0.000000   \n45019    0.000000  ...      0.000000         NaN         0.000000   \n\n       STRING_EXP_PV STRING_REST_SCORE  STRING_REST_PV SIFTS_SCORE  \\\n0                0.0          0.006185             0.0    0.129099   \n1                0.0          0.003227             0.0    0.111803   \n2                0.0          0.003227             0.0    0.111803   \n3                0.0          0.003116             0.0    0.800000   \n4                0.0          0.003901             0.0    0.129099   \n...              ...               ...             ...         ...   \n45015            NaN          0.000000             NaN    1.000000   \n45016            NaN          0.000000             NaN    1.000000   \n45017            NaN          0.000000             NaN    1.000000   \n45018            NaN          0.000000             NaN    1.000000   \n45019            NaN          0.000000             NaN    1.000000   \n\n           SIFTS_PV   CLASS INTERPRO  \n0      1.212356e-06  Bronze      Yes  \n1      2.060408e-03  Bronze       No  \n2      2.060408e-03  Bronze       No  \n3      1.453297e-63    Gold      Yes  \n4      2.028924e-11    Gold       No  \n...             ...     ...      ...  \n45015  3.389711e-07  Silver      Yes  \n45016           NaN  Silver      Yes  \n45017  3.389711e-07  Silver      Yes  \n45018           NaN  Silver      Yes  \n45019           NaN  Silver      Yes  \n\n[45020 rows x 21 columns]",
      "text/html": "<div>\n<style scoped>\n    .dataframe tbody tr th:only-of-type {\n        vertical-align: middle;\n    }\n\n    .dataframe tbody tr th {\n        vertical-align: top;\n    }\n\n    .dataframe thead th {\n        text-align: right;\n    }\n</style>\n<table border=\"1\" class=\"dataframe\">\n  <thead>\n    <tr style=\"text-align: right;\">\n      <th></th>\n      <th>D1</th>\n      <th>D2</th>\n      <th>SCORE</th>\n      <th>INTACT_SCORE</th>\n      <th>INTACT_PV</th>\n      <th>DIP_SCORE</th>\n      <th>DIP_PV</th>\n      <th>MINT_SCORE</th>\n      <th>MINT_PV</th>\n      <th>HPRD_SCORE</th>\n      <th>...</th>\n      <th>BIOGRID_SCORE</th>\n      <th>BIOGRID_PV</th>\n      <th>STRING_EXP_SCORE</th>\n      <th>STRING_EXP_PV</th>\n      <th>STRING_REST_SCORE</th>\n      <th>STRING_REST_PV</th>\n      <th>SIFTS_SCORE</th>\n      <th>SIFTS_PV</th>\n      <th>CLASS</th>\n      <th>INTERPRO</th>\n    </tr>\n  </thead>\n  <tbody>\n    <tr>\n      <th>0</th>\n      <td>PF02769</td>\n      <td>PF13507</td>\n      <td>0.088072</td>\n      <td>0.011773</td>\n      <td>0.0</td>\n      <td>0.049507</td>\n      <td>7.406808766310296e-44</td>\n      <td>0.095130</td>\n      <td>3.849925148356953e-43</td>\n      <td>0.000000</td>\n      <td>...</td>\n      <td>0.008260</td>\n      <td>0.0</td>\n      <td>0.006164</td>\n      <td>0.0</td>\n      <td>0.006185</td>\n      <td>0.0</td>\n      <td>0.129099</td>\n      <td>1.212356e-06</td>\n      <td>Bronze</td>\n      <td>Yes</td>\n    </tr>\n    <tr>\n      <th>1</th>\n      <td>PF02769</td>\n      <td>PF02843</td>\n      <td>0.115289</td>\n      <td>0.004793</td>\n      <td>1.4742268313510745e-247</td>\n      <td>0.000000</td>\n      <td>NaN</td>\n      <td>0.045835</td>\n      <td>1.4124323582002133e-46</td>\n      <td>0.353553</td>\n      <td>...</td>\n      <td>0.009855</td>\n      <td>0.0</td>\n      <td>0.003335</td>\n      <td>0.0</td>\n      <td>0.003227</td>\n      <td>0.0</td>\n      <td>0.111803</td>\n      <td>2.060408e-03</td>\n      <td>Bronze</td>\n      <td>No</td>\n    </tr>\n    <tr>\n      <th>2</th>\n      <td>PF02769</td>\n      <td>PF02844</td>\n      <td>0.115289</td>\n      <td>0.004793</td>\n      <td>1.4742268313510745e-247</td>\n      <td>0.000000</td>\n      <td>NaN</td>\n      <td>0.045835</td>\n      <td>1.4124323582002133e-46</td>\n      <td>0.353553</td>\n      <td>...</td>\n      <td>0.009855</td>\n      <td>0.0</td>\n      <td>0.003335</td>\n      <td>0.0</td>\n      <td>0.003227</td>\n      <td>0.0</td>\n      <td>0.111803</td>\n      <td>2.060408e-03</td>\n      <td>Bronze</td>\n      <td>No</td>\n    </tr>\n    <tr>\n      <th>3</th>\n      <td>PF02769</td>\n      <td>PF02769</td>\n      <td>0.560638</td>\n      <td>0.014245</td>\n      <td>0.0</td>\n      <td>0.058824</td>\n      <td>1.4742056338156193e-134</td>\n      <td>0.117647</td>\n      <td>6.171672425554692e-135</td>\n      <td>0.250000</td>\n      <td>...</td>\n      <td>0.011461</td>\n      <td>0.0</td>\n      <td>0.003066</td>\n      <td>0.0</td>\n      <td>0.003116</td>\n      <td>0.0</td>\n      <td>0.800000</td>\n      <td>1.453297e-63</td>\n      <td>Gold</td>\n      <td>Yes</td>\n    </tr>\n    <tr>\n      <th>4</th>\n      <td>PF02769</td>\n      <td>PF18072</td>\n      <td>0.087038</td>\n      <td>0.004893</td>\n      <td>0.0</td>\n      <td>0.000000</td>\n      <td>NaN</td>\n      <td>0.064820</td>\n      <td>6.810781898441019e-25</td>\n      <td>0.000000</td>\n      <td>...</td>\n      <td>0.008260</td>\n      <td>0.0</td>\n      <td>0.003813</td>\n      <td>0.0</td>\n      <td>0.003901</td>\n      <td>0.0</td>\n      <td>0.129099</td>\n      <td>2.028924e-11</td>\n      <td>Gold</td>\n      <td>No</td>\n    </tr>\n    <tr>\n      <th>...</th>\n      <td>...</td>\n      <td>...</td>\n      <td>...</td>\n      <td>...</td>\n      <td>...</td>\n      <td>...</td>\n      <td>...</td>\n      <td>...</td>\n      <td>...</td>\n      <td>...</td>\n      <td>...</td>\n      <td>...</td>\n      <td>...</td>\n      <td>...</td>\n      <td>...</td>\n      <td>...</td>\n      <td>...</td>\n      <td>...</td>\n      <td>...</td>\n      <td>...</td>\n      <td>...</td>\n    </tr>\n    <tr>\n      <th>45015</th>\n      <td>PF16011</td>\n      <td>PF16011</td>\n      <td>0.662252</td>\n      <td>0.000000</td>\n      <td>NaN</td>\n      <td>0.000000</td>\n      <td>NaN</td>\n      <td>0.000000</td>\n      <td>NaN</td>\n      <td>0.000000</td>\n      <td>...</td>\n      <td>0.000000</td>\n      <td>NaN</td>\n      <td>0.000000</td>\n      <td>NaN</td>\n      <td>0.000000</td>\n      <td>NaN</td>\n      <td>1.000000</td>\n      <td>3.389711e-07</td>\n      <td>Silver</td>\n      <td>Yes</td>\n    </tr>\n    <tr>\n      <th>45016</th>\n      <td>PF16560</td>\n      <td>PF16560</td>\n      <td>0.662252</td>\n      <td>0.000000</td>\n      <td>NaN</td>\n      <td>0.000000</td>\n      <td>NaN</td>\n      <td>0.000000</td>\n      <td>NaN</td>\n      <td>0.000000</td>\n      <td>...</td>\n      <td>0.000000</td>\n      <td>NaN</td>\n      <td>0.000000</td>\n      <td>NaN</td>\n      <td>0.000000</td>\n      <td>NaN</td>\n      <td>1.000000</td>\n      <td>NaN</td>\n      <td>Silver</td>\n      <td>Yes</td>\n    </tr>\n    <tr>\n      <th>45017</th>\n      <td>PF09633</td>\n      <td>PF09633</td>\n      <td>0.662252</td>\n      <td>0.000000</td>\n      <td>NaN</td>\n      <td>0.000000</td>\n      <td>NaN</td>\n      <td>0.000000</td>\n      <td>NaN</td>\n      <td>0.000000</td>\n      <td>...</td>\n      <td>0.000000</td>\n      <td>NaN</td>\n      <td>0.000000</td>\n      <td>NaN</td>\n      <td>0.000000</td>\n      <td>NaN</td>\n      <td>1.000000</td>\n      <td>3.389711e-07</td>\n      <td>Silver</td>\n      <td>Yes</td>\n    </tr>\n    <tr>\n      <th>45018</th>\n      <td>PF16753</td>\n      <td>PF16753</td>\n      <td>0.662252</td>\n      <td>0.000000</td>\n      <td>NaN</td>\n      <td>0.000000</td>\n      <td>NaN</td>\n      <td>0.000000</td>\n      <td>NaN</td>\n      <td>0.000000</td>\n      <td>...</td>\n      <td>0.000000</td>\n      <td>NaN</td>\n      <td>0.000000</td>\n      <td>NaN</td>\n      <td>0.000000</td>\n      <td>NaN</td>\n      <td>1.000000</td>\n      <td>NaN</td>\n      <td>Silver</td>\n      <td>Yes</td>\n    </tr>\n    <tr>\n      <th>45019</th>\n      <td>PF14514</td>\n      <td>PF14514</td>\n      <td>0.662252</td>\n      <td>0.000000</td>\n      <td>NaN</td>\n      <td>0.000000</td>\n      <td>NaN</td>\n      <td>0.000000</td>\n      <td>NaN</td>\n      <td>0.000000</td>\n      <td>...</td>\n      <td>0.000000</td>\n      <td>NaN</td>\n      <td>0.000000</td>\n      <td>NaN</td>\n      <td>0.000000</td>\n      <td>NaN</td>\n      <td>1.000000</td>\n      <td>NaN</td>\n      <td>Silver</td>\n      <td>Yes</td>\n    </tr>\n  </tbody>\n</table>\n<p>45020 rows × 21 columns</p>\n</div>"
     },
     "execution_count": 2,
     "metadata": {},
     "output_type": "execute_result"
    }
   ],
   "source": [
    "# import ppidm dataframe, output of the p_value python file code\n",
    "ppidm = pd.read_csv(\"resultdata/result-all\", sep=\"\\t\")  # shape = (84552, 21)\n",
    "ppidm"
   ]
  },
  {
   "cell_type": "markdown",
   "metadata": {},
   "source": [
    "<br>  \n",
    "## Add Goldstandard column to classified PPIDM:"
   ]
  },
  {
   "cell_type": "markdown",
   "metadata": {},
   "source": [
    "In this section we add to ppidm a column `IN_GOLDSTANDARD` in which we specify whether the DDI is in the goldstandard or not.   \n",
    "We get **6989** DDIs that are in both PPIDM and the GoldStandard."
   ]
  },
  {
   "cell_type": "code",
   "execution_count": 3,
   "metadata": {
    "ExecuteTime": {
     "start_time": "2023-06-22T23:10:59.718100Z",
     "end_time": "2023-06-22T23:11:12.921765Z"
    }
   },
   "outputs": [
    {
     "data": {
      "text/plain": "            D1       D2     SCORE  INTACT_SCORE                INTACT_PV  \\\n0      PF02769  PF13507  0.088072      0.011773                      0.0   \n1      PF02769  PF02843  0.115289      0.004793  1.4742268313510745e-247   \n2      PF02769  PF02844  0.115289      0.004793  1.4742268313510745e-247   \n3      PF02769  PF02769  0.560638      0.014245                      0.0   \n4      PF02769  PF18072  0.087038      0.004893                      0.0   \n...        ...      ...       ...           ...                      ...   \n45015  PF16011  PF16011  0.662252      0.000000                      NaN   \n45016  PF16560  PF16560  0.662252      0.000000                      NaN   \n45017  PF09633  PF09633  0.662252      0.000000                      NaN   \n45018  PF16753  PF16753  0.662252      0.000000                      NaN   \n45019  PF14514  PF14514  0.662252      0.000000                      NaN   \n\n       DIP_SCORE                   DIP_PV  MINT_SCORE                 MINT_PV  \\\n0       0.049507    7.406808766310296e-44    0.095130   3.849925148356953e-43   \n1       0.000000                      NaN    0.045835  1.4124323582002133e-46   \n2       0.000000                      NaN    0.045835  1.4124323582002133e-46   \n3       0.058824  1.4742056338156193e-134    0.117647  6.171672425554692e-135   \n4       0.000000                      NaN    0.064820   6.810781898441019e-25   \n...          ...                      ...         ...                     ...   \n45015   0.000000                      NaN    0.000000                     NaN   \n45016   0.000000                      NaN    0.000000                     NaN   \n45017   0.000000                      NaN    0.000000                     NaN   \n45018   0.000000                      NaN    0.000000                     NaN   \n45019   0.000000                      NaN    0.000000                     NaN   \n\n       HPRD_SCORE  ... BIOGRID_PV  STRING_EXP_SCORE STRING_EXP_PV  \\\n0        0.000000  ...        0.0          0.006164           0.0   \n1        0.353553  ...        0.0          0.003335           0.0   \n2        0.353553  ...        0.0          0.003335           0.0   \n3        0.250000  ...        0.0          0.003066           0.0   \n4        0.000000  ...        0.0          0.003813           0.0   \n...           ...  ...        ...               ...           ...   \n45015    0.000000  ...        NaN          0.000000           NaN   \n45016    0.000000  ...        NaN          0.000000           NaN   \n45017    0.000000  ...        NaN          0.000000           NaN   \n45018    0.000000  ...        NaN          0.000000           NaN   \n45019    0.000000  ...        NaN          0.000000           NaN   \n\n       STRING_REST_SCORE STRING_REST_PV  SIFTS_SCORE      SIFTS_PV   CLASS  \\\n0               0.006185            0.0     0.129099  1.212356e-06  Bronze   \n1               0.003227            0.0     0.111803  2.060408e-03  Bronze   \n2               0.003227            0.0     0.111803  2.060408e-03  Bronze   \n3               0.003116            0.0     0.800000  1.453297e-63    Gold   \n4               0.003901            0.0     0.129099  2.028924e-11    Gold   \n...                  ...            ...          ...           ...     ...   \n45015           0.000000            NaN     1.000000  3.389711e-07  Silver   \n45016           0.000000            NaN     1.000000           NaN  Silver   \n45017           0.000000            NaN     1.000000  3.389711e-07  Silver   \n45018           0.000000            NaN     1.000000           NaN  Silver   \n45019           0.000000            NaN     1.000000           NaN  Silver   \n\n       INTERPRO IN_GOLDSTANDARD  \n0           Yes             yes  \n1            No              no  \n2            No              no  \n3           Yes             yes  \n4            No              no  \n...         ...             ...  \n45015       Yes             yes  \n45016       Yes             yes  \n45017       Yes             yes  \n45018       Yes             yes  \n45019       Yes             yes  \n\n[45020 rows x 22 columns]",
      "text/html": "<div>\n<style scoped>\n    .dataframe tbody tr th:only-of-type {\n        vertical-align: middle;\n    }\n\n    .dataframe tbody tr th {\n        vertical-align: top;\n    }\n\n    .dataframe thead th {\n        text-align: right;\n    }\n</style>\n<table border=\"1\" class=\"dataframe\">\n  <thead>\n    <tr style=\"text-align: right;\">\n      <th></th>\n      <th>D1</th>\n      <th>D2</th>\n      <th>SCORE</th>\n      <th>INTACT_SCORE</th>\n      <th>INTACT_PV</th>\n      <th>DIP_SCORE</th>\n      <th>DIP_PV</th>\n      <th>MINT_SCORE</th>\n      <th>MINT_PV</th>\n      <th>HPRD_SCORE</th>\n      <th>...</th>\n      <th>BIOGRID_PV</th>\n      <th>STRING_EXP_SCORE</th>\n      <th>STRING_EXP_PV</th>\n      <th>STRING_REST_SCORE</th>\n      <th>STRING_REST_PV</th>\n      <th>SIFTS_SCORE</th>\n      <th>SIFTS_PV</th>\n      <th>CLASS</th>\n      <th>INTERPRO</th>\n      <th>IN_GOLDSTANDARD</th>\n    </tr>\n  </thead>\n  <tbody>\n    <tr>\n      <th>0</th>\n      <td>PF02769</td>\n      <td>PF13507</td>\n      <td>0.088072</td>\n      <td>0.011773</td>\n      <td>0.0</td>\n      <td>0.049507</td>\n      <td>7.406808766310296e-44</td>\n      <td>0.095130</td>\n      <td>3.849925148356953e-43</td>\n      <td>0.000000</td>\n      <td>...</td>\n      <td>0.0</td>\n      <td>0.006164</td>\n      <td>0.0</td>\n      <td>0.006185</td>\n      <td>0.0</td>\n      <td>0.129099</td>\n      <td>1.212356e-06</td>\n      <td>Bronze</td>\n      <td>Yes</td>\n      <td>yes</td>\n    </tr>\n    <tr>\n      <th>1</th>\n      <td>PF02769</td>\n      <td>PF02843</td>\n      <td>0.115289</td>\n      <td>0.004793</td>\n      <td>1.4742268313510745e-247</td>\n      <td>0.000000</td>\n      <td>NaN</td>\n      <td>0.045835</td>\n      <td>1.4124323582002133e-46</td>\n      <td>0.353553</td>\n      <td>...</td>\n      <td>0.0</td>\n      <td>0.003335</td>\n      <td>0.0</td>\n      <td>0.003227</td>\n      <td>0.0</td>\n      <td>0.111803</td>\n      <td>2.060408e-03</td>\n      <td>Bronze</td>\n      <td>No</td>\n      <td>no</td>\n    </tr>\n    <tr>\n      <th>2</th>\n      <td>PF02769</td>\n      <td>PF02844</td>\n      <td>0.115289</td>\n      <td>0.004793</td>\n      <td>1.4742268313510745e-247</td>\n      <td>0.000000</td>\n      <td>NaN</td>\n      <td>0.045835</td>\n      <td>1.4124323582002133e-46</td>\n      <td>0.353553</td>\n      <td>...</td>\n      <td>0.0</td>\n      <td>0.003335</td>\n      <td>0.0</td>\n      <td>0.003227</td>\n      <td>0.0</td>\n      <td>0.111803</td>\n      <td>2.060408e-03</td>\n      <td>Bronze</td>\n      <td>No</td>\n      <td>no</td>\n    </tr>\n    <tr>\n      <th>3</th>\n      <td>PF02769</td>\n      <td>PF02769</td>\n      <td>0.560638</td>\n      <td>0.014245</td>\n      <td>0.0</td>\n      <td>0.058824</td>\n      <td>1.4742056338156193e-134</td>\n      <td>0.117647</td>\n      <td>6.171672425554692e-135</td>\n      <td>0.250000</td>\n      <td>...</td>\n      <td>0.0</td>\n      <td>0.003066</td>\n      <td>0.0</td>\n      <td>0.003116</td>\n      <td>0.0</td>\n      <td>0.800000</td>\n      <td>1.453297e-63</td>\n      <td>Gold</td>\n      <td>Yes</td>\n      <td>yes</td>\n    </tr>\n    <tr>\n      <th>4</th>\n      <td>PF02769</td>\n      <td>PF18072</td>\n      <td>0.087038</td>\n      <td>0.004893</td>\n      <td>0.0</td>\n      <td>0.000000</td>\n      <td>NaN</td>\n      <td>0.064820</td>\n      <td>6.810781898441019e-25</td>\n      <td>0.000000</td>\n      <td>...</td>\n      <td>0.0</td>\n      <td>0.003813</td>\n      <td>0.0</td>\n      <td>0.003901</td>\n      <td>0.0</td>\n      <td>0.129099</td>\n      <td>2.028924e-11</td>\n      <td>Gold</td>\n      <td>No</td>\n      <td>no</td>\n    </tr>\n    <tr>\n      <th>...</th>\n      <td>...</td>\n      <td>...</td>\n      <td>...</td>\n      <td>...</td>\n      <td>...</td>\n      <td>...</td>\n      <td>...</td>\n      <td>...</td>\n      <td>...</td>\n      <td>...</td>\n      <td>...</td>\n      <td>...</td>\n      <td>...</td>\n      <td>...</td>\n      <td>...</td>\n      <td>...</td>\n      <td>...</td>\n      <td>...</td>\n      <td>...</td>\n      <td>...</td>\n      <td>...</td>\n    </tr>\n    <tr>\n      <th>45015</th>\n      <td>PF16011</td>\n      <td>PF16011</td>\n      <td>0.662252</td>\n      <td>0.000000</td>\n      <td>NaN</td>\n      <td>0.000000</td>\n      <td>NaN</td>\n      <td>0.000000</td>\n      <td>NaN</td>\n      <td>0.000000</td>\n      <td>...</td>\n      <td>NaN</td>\n      <td>0.000000</td>\n      <td>NaN</td>\n      <td>0.000000</td>\n      <td>NaN</td>\n      <td>1.000000</td>\n      <td>3.389711e-07</td>\n      <td>Silver</td>\n      <td>Yes</td>\n      <td>yes</td>\n    </tr>\n    <tr>\n      <th>45016</th>\n      <td>PF16560</td>\n      <td>PF16560</td>\n      <td>0.662252</td>\n      <td>0.000000</td>\n      <td>NaN</td>\n      <td>0.000000</td>\n      <td>NaN</td>\n      <td>0.000000</td>\n      <td>NaN</td>\n      <td>0.000000</td>\n      <td>...</td>\n      <td>NaN</td>\n      <td>0.000000</td>\n      <td>NaN</td>\n      <td>0.000000</td>\n      <td>NaN</td>\n      <td>1.000000</td>\n      <td>NaN</td>\n      <td>Silver</td>\n      <td>Yes</td>\n      <td>yes</td>\n    </tr>\n    <tr>\n      <th>45017</th>\n      <td>PF09633</td>\n      <td>PF09633</td>\n      <td>0.662252</td>\n      <td>0.000000</td>\n      <td>NaN</td>\n      <td>0.000000</td>\n      <td>NaN</td>\n      <td>0.000000</td>\n      <td>NaN</td>\n      <td>0.000000</td>\n      <td>...</td>\n      <td>NaN</td>\n      <td>0.000000</td>\n      <td>NaN</td>\n      <td>0.000000</td>\n      <td>NaN</td>\n      <td>1.000000</td>\n      <td>3.389711e-07</td>\n      <td>Silver</td>\n      <td>Yes</td>\n      <td>yes</td>\n    </tr>\n    <tr>\n      <th>45018</th>\n      <td>PF16753</td>\n      <td>PF16753</td>\n      <td>0.662252</td>\n      <td>0.000000</td>\n      <td>NaN</td>\n      <td>0.000000</td>\n      <td>NaN</td>\n      <td>0.000000</td>\n      <td>NaN</td>\n      <td>0.000000</td>\n      <td>...</td>\n      <td>NaN</td>\n      <td>0.000000</td>\n      <td>NaN</td>\n      <td>0.000000</td>\n      <td>NaN</td>\n      <td>1.000000</td>\n      <td>NaN</td>\n      <td>Silver</td>\n      <td>Yes</td>\n      <td>yes</td>\n    </tr>\n    <tr>\n      <th>45019</th>\n      <td>PF14514</td>\n      <td>PF14514</td>\n      <td>0.662252</td>\n      <td>0.000000</td>\n      <td>NaN</td>\n      <td>0.000000</td>\n      <td>NaN</td>\n      <td>0.000000</td>\n      <td>NaN</td>\n      <td>0.000000</td>\n      <td>...</td>\n      <td>NaN</td>\n      <td>0.000000</td>\n      <td>NaN</td>\n      <td>0.000000</td>\n      <td>NaN</td>\n      <td>1.000000</td>\n      <td>NaN</td>\n      <td>Silver</td>\n      <td>Yes</td>\n      <td>yes</td>\n    </tr>\n  </tbody>\n</table>\n<p>45020 rows × 22 columns</p>\n</div>"
     },
     "execution_count": 3,
     "metadata": {},
     "output_type": "execute_result"
    }
   ],
   "source": [
    "# import goldstandard\n",
    "GS = pd.read_csv(\"resultdata/pfam-pfam-interaction-goldstandard\", sep='\\t', header=None)\n",
    "GS.columns = ['D1', 'D2', 'INTACT', 'DIP', 'MINT', 'BIOGRID', 'STRING_EXP', 'STRING_REST', 'SIFTS', 'HPRD', 'SCORE', 'FLAG']\n",
    "GS['Interactions'] = list(zip(GS['D1'], GS['D2']))\n",
    "GS_ddis = list( GS['Interactions'] )\n",
    "ppidm['IN_GOLDSTANDARD'] = ppidm.apply(lambda row: 'yes' if (row['D1'], row['D2']) in GS_ddis else 'no', axis=1)\n",
    "ppidm\n",
    "# add the yes/no in GoldStandard column to ppidm\n",
    "# ppidm['DDI'] = ppidm[['D1','D2']].apply(frozenset, axis=1)\n",
    "# ppidm['IN_GOLDSTANDARD'] = ppidm.iloc[:,21].apply(lambda x: 'yes' if x in GS_ddis else 'no')  # ~50 seconds\n",
    "# ppidm.drop(labels='DDI', axis=1, inplace=True)\n"
   ]
  },
  {
   "cell_type": "code",
   "execution_count": 4,
   "metadata": {
    "ExecuteTime": {
     "start_time": "2023-06-22T23:12:05.969573Z",
     "end_time": "2023-06-22T23:12:05.975861Z"
    }
   },
   "outputs": [
    {
     "data": {
      "text/plain": "no     36841\nyes     8179\nName: IN_GOLDSTANDARD, dtype: int64"
     },
     "execution_count": 4,
     "metadata": {},
     "output_type": "execute_result"
    }
   ],
   "source": [
    "# counting of unique values of the 'IN_GOLDSTANDARD' column\n",
    "ppidm.IN_GOLDSTANDARD.value_counts()"
   ]
  },
  {
   "cell_type": "code",
   "execution_count": 21,
   "outputs": [],
   "source": [
    "silver = ppidm[ppidm.CLASS =='Bronze']\n",
    "# with open('resultdata/interactions_bronze', 'w') as f:\n",
    "#     for index, row in silver.iterrows():\n",
    "#         f.write(f\"{row['D1']}\\t{row['D2']}\\n\")"
   ],
   "metadata": {
    "collapsed": false,
    "ExecuteTime": {
     "start_time": "2023-06-23T00:01:16.615613Z",
     "end_time": "2023-06-23T00:01:18.065152Z"
    }
   }
  },
  {
   "cell_type": "markdown",
   "metadata": {},
   "source": [
    "<br>  \n",
    "## Scores & P-values : Numerical values cleaning:"
   ]
  },
  {
   "cell_type": "markdown",
   "metadata": {},
   "source": [
    "The numerical values in ppidm dataframe will be modified as the following:\n",
    "    - The scores will be rounded to 8 decimals;\n",
    "    - The p_values equal to '1*' will become equal to '1', and the floats will be rounded to 3 decimals. Note that the '1*' has been assigned to 7 950 p_values. A '1*' means that the real p_value is actually greater than 1."
   ]
  },
  {
   "cell_type": "code",
   "execution_count": 27,
   "metadata": {
    "ExecuteTime": {
     "start_time": "2023-05-02T20:19:59.969366Z",
     "end_time": "2023-05-02T20:20:00.448737Z"
    }
   },
   "outputs": [],
   "source": [
    "# define a list of indexes of p_values and scores columns\n",
    "p_value_columns=[i*2 for i in range(2,10)]\n",
    "scores_columns = [2]+[(i*2)+1 for i in range(1,9)]\n",
    "\n",
    "# define a variable 'count' which computes the number of p_values equal to 1*\n",
    "count=0\n",
    "\n",
    "# define functions of rounding to apply to scores and p_values\n",
    "def round_p_value(x):\n",
    "    global count\n",
    "    if x=='1*': \n",
    "        count+=1\n",
    "        return '1'\n",
    "    if not isnan(float(x)):\n",
    "        if float(x)==0: return 0\n",
    "        return \"{0:.3e}\".format(float(x))\n",
    "    else: return x\n",
    "    \n",
    "def round_scores(x):\n",
    "    if float(x)==0 : return 0\n",
    "    return f\"{float(x):.8f}\"\n",
    "\n",
    "# rounding of p_values\n",
    "for i in p_value_columns: ppidm.iloc[:,i] =pd.DataFrame(ppidm.iloc[:,i]).applymap(round_p_value)\n",
    "    \n",
    "# rounding of scores\n",
    "for i in scores_columns:  ppidm.iloc[:,i] =pd.DataFrame(ppidm.iloc[:,i]).applymap(round_scores)"
   ]
  },
  {
   "cell_type": "code",
   "execution_count": 28,
   "metadata": {
    "ExecuteTime": {
     "start_time": "2023-05-02T20:20:02.020110Z",
     "end_time": "2023-05-02T20:20:02.030244Z"
    }
   },
   "outputs": [
    {
     "name": "stdout",
     "output_type": "stream",
     "text": [
      " The number of '1*' p_values is:  0 .\n"
     ]
    }
   ],
   "source": [
    "print(\" The number of '1*' p_values is: \", count,\".\")"
   ]
  },
  {
   "cell_type": "code",
   "execution_count": 29,
   "metadata": {
    "ExecuteTime": {
     "start_time": "2023-05-02T20:22:08.706837Z",
     "end_time": "2023-05-02T20:22:08.761034Z"
    }
   },
   "outputs": [
    {
     "data": {
      "text/plain": "            D1       D2       SCORE INTACT_SCORE   INTACT_PV   DIP_SCORE   \n0      PF15951  PF15951  0.68287571   0.03278689  9.450e-277           0  \\\n1      PF11851  PF15951  0.69599693   0.03105350  1.409e-266           0   \n2      PF11851  PF11851  0.69988929   0.02941176  3.509e-303           0   \n3      PF00010  PF00010  0.26478172   0.09108967           0  0.23404255   \n4      PF00010  PF00439  0.04440215   0.01239639   1.449e-02  0.02636136   \n...        ...      ...         ...          ...         ...         ...   \n45015  PF16011  PF16011  0.66225166            0         NaN           0   \n45016  PF16560  PF16560  0.66225166            0         NaN           0   \n45017  PF09633  PF09633  0.66225166            0         NaN           0   \n45018  PF16753  PF16753  0.66225166            0         NaN           0   \n45019  PF14514  PF14514  0.66225166            0         NaN           0   \n\n          DIP_PV  MINT_SCORE    MINT_PV  HPRD_SCORE  ...  BIOGRID_PV   \n0            NaN           0        NaN  0.14285714  ...           0  \\\n1            NaN           0        NaN  0.24565184  ...  2.807e-316   \n2            NaN           0        NaN  0.27586207  ...           0   \n3              0  0.11904762          0  0.21102362  ...           0   \n4      9.621e-04  0.01433165  5.712e-02  0.05565099  ...   1.110e-22   \n...          ...         ...        ...         ...  ...         ...   \n45015        NaN           0        NaN           0  ...         NaN   \n45016        NaN           0        NaN           0  ...         NaN   \n45017        NaN           0        NaN           0  ...         NaN   \n45018        NaN           0        NaN           0  ...         NaN   \n45019        NaN           0        NaN           0  ...         NaN   \n\n      STRING_EXP_SCORE STRING_EXP_PV STRING_REST_SCORE STRING_REST_PV   \n0           0.00080354             0        0.00084034              0  \\\n1           0.00185080             0        0.00194132              0   \n2           0.00155017             0        0.00163084              0   \n3           0.03926018             0        0.03991953              0   \n4           0.00683649     1.892e-23        0.00707584      1.646e-27   \n...                ...           ...               ...            ...   \n45015                0           NaN                 0            NaN   \n45016                0           NaN                 0            NaN   \n45017                0           NaN                 0            NaN   \n45018                0           NaN                 0            NaN   \n45019                0           NaN                 0            NaN   \n\n      SIFTS_SCORE    SIFTS_PV   CLASS INTERPRO IN_GOLDSTANDARD  \n0      1.00000000   3.390e-07    Gold       No              no  \n1      1.00000000   3.390e-07    Gold       No              no  \n2      1.00000000   3.390e-07    Gold       No              no  \n3      0.34328358  1.213e-202    Gold      Yes             yes  \n4      0.05331912   5.899e-05    Gold       No              no  \n...           ...         ...     ...      ...             ...  \n45015  1.00000000   3.390e-07  Silver      Yes             yes  \n45016  1.00000000         NaN  Bronze      Yes             yes  \n45017  1.00000000   3.390e-07  Silver      Yes             yes  \n45018  1.00000000         NaN  Bronze      Yes             yes  \n45019  1.00000000         NaN  Bronze      Yes             yes  \n\n[45020 rows x 22 columns]",
      "text/html": "<div>\n<style scoped>\n    .dataframe tbody tr th:only-of-type {\n        vertical-align: middle;\n    }\n\n    .dataframe tbody tr th {\n        vertical-align: top;\n    }\n\n    .dataframe thead th {\n        text-align: right;\n    }\n</style>\n<table border=\"1\" class=\"dataframe\">\n  <thead>\n    <tr style=\"text-align: right;\">\n      <th></th>\n      <th>D1</th>\n      <th>D2</th>\n      <th>SCORE</th>\n      <th>INTACT_SCORE</th>\n      <th>INTACT_PV</th>\n      <th>DIP_SCORE</th>\n      <th>DIP_PV</th>\n      <th>MINT_SCORE</th>\n      <th>MINT_PV</th>\n      <th>HPRD_SCORE</th>\n      <th>...</th>\n      <th>BIOGRID_PV</th>\n      <th>STRING_EXP_SCORE</th>\n      <th>STRING_EXP_PV</th>\n      <th>STRING_REST_SCORE</th>\n      <th>STRING_REST_PV</th>\n      <th>SIFTS_SCORE</th>\n      <th>SIFTS_PV</th>\n      <th>CLASS</th>\n      <th>INTERPRO</th>\n      <th>IN_GOLDSTANDARD</th>\n    </tr>\n  </thead>\n  <tbody>\n    <tr>\n      <th>0</th>\n      <td>PF15951</td>\n      <td>PF15951</td>\n      <td>0.68287571</td>\n      <td>0.03278689</td>\n      <td>9.450e-277</td>\n      <td>0</td>\n      <td>NaN</td>\n      <td>0</td>\n      <td>NaN</td>\n      <td>0.14285714</td>\n      <td>...</td>\n      <td>0</td>\n      <td>0.00080354</td>\n      <td>0</td>\n      <td>0.00084034</td>\n      <td>0</td>\n      <td>1.00000000</td>\n      <td>3.390e-07</td>\n      <td>Gold</td>\n      <td>No</td>\n      <td>no</td>\n    </tr>\n    <tr>\n      <th>1</th>\n      <td>PF11851</td>\n      <td>PF15951</td>\n      <td>0.69599693</td>\n      <td>0.03105350</td>\n      <td>1.409e-266</td>\n      <td>0</td>\n      <td>NaN</td>\n      <td>0</td>\n      <td>NaN</td>\n      <td>0.24565184</td>\n      <td>...</td>\n      <td>2.807e-316</td>\n      <td>0.00185080</td>\n      <td>0</td>\n      <td>0.00194132</td>\n      <td>0</td>\n      <td>1.00000000</td>\n      <td>3.390e-07</td>\n      <td>Gold</td>\n      <td>No</td>\n      <td>no</td>\n    </tr>\n    <tr>\n      <th>2</th>\n      <td>PF11851</td>\n      <td>PF11851</td>\n      <td>0.69988929</td>\n      <td>0.02941176</td>\n      <td>3.509e-303</td>\n      <td>0</td>\n      <td>NaN</td>\n      <td>0</td>\n      <td>NaN</td>\n      <td>0.27586207</td>\n      <td>...</td>\n      <td>0</td>\n      <td>0.00155017</td>\n      <td>0</td>\n      <td>0.00163084</td>\n      <td>0</td>\n      <td>1.00000000</td>\n      <td>3.390e-07</td>\n      <td>Gold</td>\n      <td>No</td>\n      <td>no</td>\n    </tr>\n    <tr>\n      <th>3</th>\n      <td>PF00010</td>\n      <td>PF00010</td>\n      <td>0.26478172</td>\n      <td>0.09108967</td>\n      <td>0</td>\n      <td>0.23404255</td>\n      <td>0</td>\n      <td>0.11904762</td>\n      <td>0</td>\n      <td>0.21102362</td>\n      <td>...</td>\n      <td>0</td>\n      <td>0.03926018</td>\n      <td>0</td>\n      <td>0.03991953</td>\n      <td>0</td>\n      <td>0.34328358</td>\n      <td>1.213e-202</td>\n      <td>Gold</td>\n      <td>Yes</td>\n      <td>yes</td>\n    </tr>\n    <tr>\n      <th>4</th>\n      <td>PF00010</td>\n      <td>PF00439</td>\n      <td>0.04440215</td>\n      <td>0.01239639</td>\n      <td>1.449e-02</td>\n      <td>0.02636136</td>\n      <td>9.621e-04</td>\n      <td>0.01433165</td>\n      <td>5.712e-02</td>\n      <td>0.05565099</td>\n      <td>...</td>\n      <td>1.110e-22</td>\n      <td>0.00683649</td>\n      <td>1.892e-23</td>\n      <td>0.00707584</td>\n      <td>1.646e-27</td>\n      <td>0.05331912</td>\n      <td>5.899e-05</td>\n      <td>Gold</td>\n      <td>No</td>\n      <td>no</td>\n    </tr>\n    <tr>\n      <th>...</th>\n      <td>...</td>\n      <td>...</td>\n      <td>...</td>\n      <td>...</td>\n      <td>...</td>\n      <td>...</td>\n      <td>...</td>\n      <td>...</td>\n      <td>...</td>\n      <td>...</td>\n      <td>...</td>\n      <td>...</td>\n      <td>...</td>\n      <td>...</td>\n      <td>...</td>\n      <td>...</td>\n      <td>...</td>\n      <td>...</td>\n      <td>...</td>\n      <td>...</td>\n      <td>...</td>\n    </tr>\n    <tr>\n      <th>45015</th>\n      <td>PF16011</td>\n      <td>PF16011</td>\n      <td>0.66225166</td>\n      <td>0</td>\n      <td>NaN</td>\n      <td>0</td>\n      <td>NaN</td>\n      <td>0</td>\n      <td>NaN</td>\n      <td>0</td>\n      <td>...</td>\n      <td>NaN</td>\n      <td>0</td>\n      <td>NaN</td>\n      <td>0</td>\n      <td>NaN</td>\n      <td>1.00000000</td>\n      <td>3.390e-07</td>\n      <td>Silver</td>\n      <td>Yes</td>\n      <td>yes</td>\n    </tr>\n    <tr>\n      <th>45016</th>\n      <td>PF16560</td>\n      <td>PF16560</td>\n      <td>0.66225166</td>\n      <td>0</td>\n      <td>NaN</td>\n      <td>0</td>\n      <td>NaN</td>\n      <td>0</td>\n      <td>NaN</td>\n      <td>0</td>\n      <td>...</td>\n      <td>NaN</td>\n      <td>0</td>\n      <td>NaN</td>\n      <td>0</td>\n      <td>NaN</td>\n      <td>1.00000000</td>\n      <td>NaN</td>\n      <td>Bronze</td>\n      <td>Yes</td>\n      <td>yes</td>\n    </tr>\n    <tr>\n      <th>45017</th>\n      <td>PF09633</td>\n      <td>PF09633</td>\n      <td>0.66225166</td>\n      <td>0</td>\n      <td>NaN</td>\n      <td>0</td>\n      <td>NaN</td>\n      <td>0</td>\n      <td>NaN</td>\n      <td>0</td>\n      <td>...</td>\n      <td>NaN</td>\n      <td>0</td>\n      <td>NaN</td>\n      <td>0</td>\n      <td>NaN</td>\n      <td>1.00000000</td>\n      <td>3.390e-07</td>\n      <td>Silver</td>\n      <td>Yes</td>\n      <td>yes</td>\n    </tr>\n    <tr>\n      <th>45018</th>\n      <td>PF16753</td>\n      <td>PF16753</td>\n      <td>0.66225166</td>\n      <td>0</td>\n      <td>NaN</td>\n      <td>0</td>\n      <td>NaN</td>\n      <td>0</td>\n      <td>NaN</td>\n      <td>0</td>\n      <td>...</td>\n      <td>NaN</td>\n      <td>0</td>\n      <td>NaN</td>\n      <td>0</td>\n      <td>NaN</td>\n      <td>1.00000000</td>\n      <td>NaN</td>\n      <td>Bronze</td>\n      <td>Yes</td>\n      <td>yes</td>\n    </tr>\n    <tr>\n      <th>45019</th>\n      <td>PF14514</td>\n      <td>PF14514</td>\n      <td>0.66225166</td>\n      <td>0</td>\n      <td>NaN</td>\n      <td>0</td>\n      <td>NaN</td>\n      <td>0</td>\n      <td>NaN</td>\n      <td>0</td>\n      <td>...</td>\n      <td>NaN</td>\n      <td>0</td>\n      <td>NaN</td>\n      <td>0</td>\n      <td>NaN</td>\n      <td>1.00000000</td>\n      <td>NaN</td>\n      <td>Bronze</td>\n      <td>Yes</td>\n      <td>yes</td>\n    </tr>\n  </tbody>\n</table>\n<p>45020 rows × 22 columns</p>\n</div>"
     },
     "execution_count": 29,
     "metadata": {},
     "output_type": "execute_result"
    }
   ],
   "source": [
    "# display the updated PPIDM dataframe\n",
    "ppidm"
   ]
  },
  {
   "cell_type": "code",
   "execution_count": 8,
   "metadata": {},
   "outputs": [],
   "source": [
    "# save the results:\n",
    "#ppidm.to_csv('p_value_classified_ppidm_gs_column.csv', index = False)\n",
    "#ppidm.to_pickle(\"p_value_classified_ppidm_gs_column\")"
   ]
  },
  {
   "cell_type": "markdown",
   "metadata": {},
   "source": [
    "<br>  \n",
    "## Classes subsets & PPIDM sorting:"
   ]
  },
  {
   "cell_type": "markdown",
   "metadata": {},
   "source": [
    "When counting the number of DDIs in each class we find:  \n",
    "- Gold: 9175 DDIs.\n",
    "- Silver: 24934 DDIs.\n",
    "- Bronze: 50443 DDIs.  \n",
    "$\\Rightarrow$ Sum = 84552 DDIs.  "
   ]
  },
  {
   "cell_type": "code",
   "execution_count": 10,
   "metadata": {
    "ExecuteTime": {
     "start_time": "2023-05-03T09:26:26.184285Z",
     "end_time": "2023-05-03T09:26:26.235882Z"
    }
   },
   "outputs": [],
   "source": [
    "# sort ppidm by the scores column, in a descending order\n",
    "score_sort = ppidm.sort_values([ 'SCORE'], axis=0, ascending=False)\n",
    "\n",
    "# split the sorted ppidm dataframes unto subset for each class \n",
    "gold = score_sort[ score_sort.CLASS =='Gold']       # shape = (6273, 22)\n",
    "silver = score_sort[ score_sort.CLASS =='Silver']   # shape = (11549, 22)\n",
    "bronze = score_sort[ score_sort.CLASS =='Bronze']   # shape = (66730, 22)\n",
    "\n",
    "# create a sorted PPIDM by the classes then by the scores in a descending order\n",
    "sorted_ppidm = pd.concat([gold, silver, bronze], axis=0)\n",
    "sorted_ppidm.SCORE = sorted_ppidm.SCORE.apply(float)"
   ]
  },
  {
   "cell_type": "code",
   "execution_count": 31,
   "metadata": {
    "ExecuteTime": {
     "start_time": "2023-05-02T20:24:05.785607Z",
     "end_time": "2023-05-02T20:24:06.087443Z"
    }
   },
   "outputs": [
    {
     "data": {
      "text/plain": "Text(0.5, 1.0, 'Boxplot: PPIDM Classes Scores')"
     },
     "execution_count": 31,
     "metadata": {},
     "output_type": "execute_result"
    },
    {
     "data": {
      "text/plain": "<Figure size 1200x1000 with 1 Axes>",
      "image/png": "[encoded data removed]"
     },
     "metadata": {},
     "output_type": "display_data"
    }
   ],
   "source": [
    "\n",
    "plt.figure(figsize=(12,10))\n",
    "colors = ['#E5CC00','#D7D7D1','#D18A36']\n",
    "plot3 = sns.boxplot(x=\"CLASS\", y=\"SCORE\", data=sorted_ppidm, palette=sns.color_palette(colors))\n",
    "plot3.set_title('Boxplot: PPIDM Classes Scores')"
   ]
  },
  {
   "cell_type": "code",
   "execution_count": 34,
   "metadata": {
    "ExecuteTime": {
     "start_time": "2023-05-02T20:27:20.889847Z",
     "end_time": "2023-05-02T20:27:20.939616Z"
    }
   },
   "outputs": [
    {
     "data": {
      "text/plain": "          count      mean       std       min       25%       50%       75%   \nGold     9100.0  0.256702  0.222555  0.015010  0.069695  0.178880  0.400225  \\\nSilver  13710.0  0.235713  0.240873  0.015003  0.041288  0.115752  0.382875   \nBronze  22210.0  0.061102  0.093572  0.015002  0.023044  0.032005  0.057694   \n\n             max  \nGold    0.810430  \nSilver  0.783349  \nBronze  0.708609  ",
      "text/html": "<div>\n<style scoped>\n    .dataframe tbody tr th:only-of-type {\n        vertical-align: middle;\n    }\n\n    .dataframe tbody tr th {\n        vertical-align: top;\n    }\n\n    .dataframe thead th {\n        text-align: right;\n    }\n</style>\n<table border=\"1\" class=\"dataframe\">\n  <thead>\n    <tr style=\"text-align: right;\">\n      <th></th>\n      <th>count</th>\n      <th>mean</th>\n      <th>std</th>\n      <th>min</th>\n      <th>25%</th>\n      <th>50%</th>\n      <th>75%</th>\n      <th>max</th>\n    </tr>\n  </thead>\n  <tbody>\n    <tr>\n      <th>Gold</th>\n      <td>9100.0</td>\n      <td>0.256702</td>\n      <td>0.222555</td>\n      <td>0.015010</td>\n      <td>0.069695</td>\n      <td>0.178880</td>\n      <td>0.400225</td>\n      <td>0.810430</td>\n    </tr>\n    <tr>\n      <th>Silver</th>\n      <td>13710.0</td>\n      <td>0.235713</td>\n      <td>0.240873</td>\n      <td>0.015003</td>\n      <td>0.041288</td>\n      <td>0.115752</td>\n      <td>0.382875</td>\n      <td>0.783349</td>\n    </tr>\n    <tr>\n      <th>Bronze</th>\n      <td>22210.0</td>\n      <td>0.061102</td>\n      <td>0.093572</td>\n      <td>0.015002</td>\n      <td>0.023044</td>\n      <td>0.032005</td>\n      <td>0.057694</td>\n      <td>0.708609</td>\n    </tr>\n  </tbody>\n</table>\n</div>"
     },
     "execution_count": 34,
     "metadata": {},
     "output_type": "execute_result"
    }
   ],
   "source": [
    "pd.DataFrame(group.describe().rename(columns={'SCORE':name}).squeeze() for name, group in sorted_ppidm.groupby('CLASS')).loc[['Gold', 'Silver', 'Bronze']]"
   ]
  },
  {
   "cell_type": "code",
   "execution_count": 12,
   "metadata": {},
   "outputs": [],
   "source": [
    "# saving the resulting dataframes under three formats: python variable(to_pickle), csv and excel files.\n",
    "\n",
    "#sorted_ppidm.to_pickle(\"sorted ppidm and classes subests/ppidm_classified_sorted\")\n",
    "#sorted_ppidm.to_csv(\"sorted ppidm and classes subests/ppidm_classified_sorted.csv\", index=False,na_rep=\"NA\")\n",
    "#sorted_ppidm.to_excel(\"sorted ppidm and classes subests/ppidm_classified_sorted.xlsx\", index=False,na_rep=\"NA\")\n",
    "\n",
    "#gold.to_pickle(\"sorted ppidm and classes subests/ppidm_gold_classified_sorted\")\n",
    "#gold.to_csv(\"sorted ppidm and classes subests/ppidm_gold_classified_sorted.csv\", index=False,na_rep=\"NA\")\n",
    "#gold.to_excel(\"sorted ppidm and classes subests/ppidm_gold_classified_sorted.xlsx\", index=False,na_rep=\"NA\")\n",
    "\n",
    "#silver.to_pickle(\"sorted ppidm and classes subests/ppidm_silver_classified_sorted\")\n",
    "#silver.to_csv(\"sorted ppidm and classes subests/ppidm_silver_classified_sorted.csv\", index=False,na_rep=\"NA\")\n",
    "#silver.to_excel(\"sorted ppidm and classes subests/ppidm_silver_classified_sorted.xlsx\", index=False,na_rep=\"NA\")\n",
    "\n",
    "#bronze.to_pickle(\"sorted ppidm and classes subests/ppidm_bronze_classified_sorted\")\n",
    "#bronze.to_csv(\"sorted ppidm and classes subests/ppidm_bronze_classified_sorted.csv\", index=False,na_rep=\"NA\")\n",
    "#bronze.to_excel(\"sorted ppidm and classes subests/ppidm_bronze_classified_sorted.xlsx\", index=False,na_rep=\"NA\")"
   ]
  },
  {
   "cell_type": "markdown",
   "metadata": {},
   "source": [
    "<br>  \n",
    "## Homo-DDIs in PPIDM - Classification counts:"
   ]
  },
  {
   "cell_type": "markdown",
   "metadata": {},
   "source": [
    "Homo-DDIs are interactions between the same domain. Here we split these DDIs according to their class. The results are:  \n",
    "- Total number of Homo-DDIs: 7203.\n",
    "- Gold: 3000 DDIs.\n",
    "- Silver: 4160 DDIs.\n",
    "- Bronze: 43 DDIs.\n"
   ]
  },
  {
   "cell_type": "code",
   "execution_count": 13,
   "metadata": {},
   "outputs": [],
   "source": [
    "# select the Homo-DDIs from ppidm\n",
    "ppidm_homo = sorted_ppidm[sorted_ppidm['D1']==sorted_ppidm['D2']]\n",
    "\n",
    "# split into three subsets according to the class\n",
    "ppidm_homo_gold = ppidm_homo[ppidm_homo['CLASS']=='Gold']\n",
    "ppidm_homo_silver = ppidm_homo[ppidm_homo['CLASS']=='Silver']\n",
    "ppidm_homo_bronze = ppidm_homo[ppidm_homo['CLASS']=='Bronze']"
   ]
  },
  {
   "cell_type": "code",
   "execution_count": 14,
   "metadata": {},
   "outputs": [
    {
     "name": "stdout",
     "output_type": "stream",
     "text": [
      "Gold: 3000 DDIs.\n",
      "Silver: 4160 DDIs.\n",
      "Bronze: 43 DDIs.\n",
      "Sum = 7203 DDIs.\n"
     ]
    }
   ],
   "source": [
    "print('Gold:', ppidm_homo_gold.shape[0], 'DDIs.')\n",
    "print('Silver:', ppidm_homo_silver.shape[0], 'DDIs.')\n",
    "print('Bronze:',ppidm_homo_bronze.shape[0], 'DDIs.')\n",
    "print('Sum =',ppidm_homo_gold.shape[0] + ppidm_homo_silver.shape[0] + ppidm_homo_bronze.shape[0], 'DDIs.')"
   ]
  },
  {
   "cell_type": "code",
   "execution_count": 15,
   "metadata": {},
   "outputs": [
    {
     "data": {
      "text/plain": [
       "Text(0.5, 1.0, 'Boxplot: PPIDM homo-DDIs Classes Scores')"
      ]
     },
     "execution_count": 15,
     "metadata": {},
     "output_type": "execute_result"
    },
    {
     "data": {
      "image/png": "[encoded data removed]",
      "text/plain": [
       "<Figure size 864x720 with 1 Axes>"
      ]
     },
     "metadata": {
      "needs_background": "light"
     },
     "output_type": "display_data"
    }
   ],
   "source": [
    "ppidm_homo.SCORE = ppidm_homo.SCORE.apply(float)\n",
    "plt.figure(figsize=(12,10))\n",
    "colors = ['#E5CC00','#D7D7D1','#D18A36']\n",
    "plot3 = sns.boxplot(x=\"CLASS\", y=\"SCORE\", data=ppidm_homo, palette=sns.color_palette(colors))\n",
    "plot3.set_title('Boxplot: PPIDM homo-DDIs Classes Scores')"
   ]
  },
  {
   "cell_type": "code",
   "execution_count": 33,
   "metadata": {},
   "outputs": [
    {
     "ename": "NameError",
     "evalue": "name 'ppidm_homo' is not defined",
     "output_type": "error",
     "traceback": [
      "\u001B[1;31m---------------------------------------------------------------------------\u001B[0m",
      "\u001B[1;31mNameError\u001B[0m                                 Traceback (most recent call last)",
      "Cell \u001B[1;32mIn[33], line 1\u001B[0m\n\u001B[1;32m----> 1\u001B[0m pd\u001B[38;5;241m.\u001B[39mDataFrame(group\u001B[38;5;241m.\u001B[39mdescribe()\u001B[38;5;241m.\u001B[39mrename(columns\u001B[38;5;241m=\u001B[39m{\u001B[38;5;124m'\u001B[39m\u001B[38;5;124mSCORE\u001B[39m\u001B[38;5;124m'\u001B[39m:name})\u001B[38;5;241m.\u001B[39msqueeze() \u001B[38;5;28;01mfor\u001B[39;00m name, group \u001B[38;5;129;01min\u001B[39;00m \u001B[43mppidm_homo\u001B[49m\u001B[38;5;241m.\u001B[39mgroupby(\u001B[38;5;124m'\u001B[39m\u001B[38;5;124mCLASS\u001B[39m\u001B[38;5;124m'\u001B[39m))\u001B[38;5;241m.\u001B[39mloc[[\u001B[38;5;124m'\u001B[39m\u001B[38;5;124mGold\u001B[39m\u001B[38;5;124m'\u001B[39m, \u001B[38;5;124m'\u001B[39m\u001B[38;5;124mSilver\u001B[39m\u001B[38;5;124m'\u001B[39m, \u001B[38;5;124m'\u001B[39m\u001B[38;5;124mBronze\u001B[39m\u001B[38;5;124m'\u001B[39m]]\n",
      "\u001B[1;31mNameError\u001B[0m: name 'ppidm_homo' is not defined"
     ]
    }
   ],
   "source": [
    "pd.DataFrame(group.describe().rename(columns={'SCORE':name}).squeeze() for name, group in ppidm_homo.groupby('CLASS')).loc[['Gold', 'Silver', 'Bronze']]"
   ]
  },
  {
   "cell_type": "markdown",
   "metadata": {},
   "source": [
    "## PPIDM Pfam Entries:"
   ]
  },
  {
   "cell_type": "markdown",
   "metadata": {},
   "source": [
    "Here we calculate the total number of pfam entries in PPIDM database. We find **12 098** entries."
   ]
  },
  {
   "cell_type": "code",
   "execution_count": 35,
   "metadata": {
    "ExecuteTime": {
     "start_time": "2023-05-02T20:33:57.378057Z",
     "end_time": "2023-05-02T20:33:57.393580Z"
    }
   },
   "outputs": [
    {
     "data": {
      "text/plain": "8696"
     },
     "execution_count": 35,
     "metadata": {},
     "output_type": "execute_result"
    }
   ],
   "source": [
    "len(set(ppidm.D1)|set(ppidm.D2))"
   ]
  },
  {
   "cell_type": "markdown",
   "metadata": {},
   "source": [
    "<br>  \n",
    "\n",
    "## PPIDM in New 3DID-2020 Analysis:"
   ]
  },
  {
   "cell_type": "markdown",
   "metadata": {},
   "source": [
    "$Definition:$  \n",
    "The new portion of 3did_2020 is the version of 3did database released in 2020 (probably in April) from which omit the DDIs of 3did 2017 (february) release. This latter database is a main constituent of the goldstandard.\n",
    "The code below generates the intersection database between PPIDM and this new portion of 3did_2020. It contains:\n",
    "- Total number of DDIs: **800** out of 3854, which means that PPIDM infers 20.758 % of the new DDIs from 3did_2020 ,\n",
    "- Gold: 258 DDIs.\n",
    "- Silver: 419 DDIs.\n",
    "- Bronze: 123 DDIs."
   ]
  },
  {
   "cell_type": "code",
   "execution_count": 18,
   "metadata": {},
   "outputs": [],
   "source": [
    "# prepare a simple version of ppidm dataframe, containing a DDI, Domain1, Domain2, score and class columns:\n",
    "ppidm = pd.read_pickle(\"sorted ppidm and classes subests/ppidm_classified_sorted\")\n",
    "ddi_set = pd.DataFrame(ppidm[['D1','D2']].apply(frozenset, axis=1))\n",
    "simple_ppidm = pd.concat([ddi_set, ppidm[['D1', 'D2', 'SCORE', 'CLASS']]], axis=1)\n",
    "simple_ppidm.columns = ['DDI', 'D1', 'D2', 'SCORE', 'CLASS']"
   ]
  },
  {
   "cell_type": "code",
   "execution_count": 19,
   "metadata": {
    "scrolled": true
   },
   "outputs": [
    {
     "name": "stdout",
     "output_type": "stream",
     "text": [
      "Number of new DDIs in 3did_2020: 3854 .\n",
      "Number of DDIs in the intersection btw PPIDM and the new portion of 3did_2020: 800 ( 20.758 %) .\n"
     ]
    }
   ],
   "source": [
    "# import 3did, february 2017 and 2020 versions\n",
    "df_3did_2017_1 = pd.read_pickle(\"Input Dataframes/dataframe_3did_flat_v1_2017\")  # shape = (10593, 4)\n",
    "df_3did_2020 = pd.read_pickle(\"Input Dataframes/dataframe_3did_2020\")    # shape = (13499, 4)\n",
    "df_3did_2020 = df_3did_2020[['DDI ppidm', 'DDI', 'Number of PDB entries', 'Liste of Structures']]\n",
    "df_3did_2020.columns = ['DDI', 'DDI full name', 'Number of PDB structures', 'List of structures']\n",
    "df_3did_2020.index = [i for i in range(len(df_3did_2020))]\n",
    "\n",
    "# extracting new released DDI: 3did_2020 \\ 3did_2017\n",
    "origin = df_3did_2017_1[[\"DDI\"]].applymap(frozenset)\n",
    "df_3did_2020[[\"DDI\"]] = df_3did_2020[[\"DDI\"]].applymap(frozenset)\n",
    "new_3did_2020 = df_3did_2020.merge(origin,  how = 'outer' ,indicator=True).loc[lambda x : x['_merge']=='left_only'].drop(columns=['_merge'])\n",
    "\n",
    "# create the intersection dataframe between ppidm and the dataframe of new DDIs in 3did_2020\n",
    "intersection = new_3did_2020.merge(simple_ppidm, on=\"DDI\", how=\"inner\")\n",
    "nr_3did = new_3did_2020.shape[0]\n",
    "nr_inter = intersection.shape[0]\n",
    "print(\"Number of new DDIs in 3did_2020:\", nr_3did, '.')\n",
    "print(\"Number of DDIs in the intersection btw PPIDM and the new portion of 3did_2020:\", nr_inter,\"(\",round(100*nr_inter/nr_3did,3),\"%) .\")\n"
   ]
  },
  {
   "cell_type": "code",
   "execution_count": 20,
   "metadata": {},
   "outputs": [
    {
     "name": "stdout",
     "output_type": "stream",
     "text": [
      "Gold: 258 DDIs.\n",
      "Silver: 419 DDIs.\n",
      "Bronze: 123 DDIs.\n",
      "Sum = 800 DDIs.\n"
     ]
    }
   ],
   "source": [
    "# create classes subsets from the intersection of PPIDM and new DDIs in 3did_2020\n",
    "intersection_gold = intersection[intersection['CLASS']=='Gold']\n",
    "intersection_silver = intersection[intersection['CLASS']=='Silver']\n",
    "intersection_bronze = intersection[intersection['CLASS']=='Bronze']\n",
    "\n",
    "# print the number of DDIs per Class subset\n",
    "print('Gold:', intersection_gold.shape[0], 'DDIs.')\n",
    "print('Silver:', intersection_silver.shape[0], 'DDIs.')\n",
    "print('Bronze:',intersection_bronze.shape[0], 'DDIs.')\n",
    "print('Sum =',intersection_gold.shape[0] + intersection_silver.shape[0] + intersection_bronze.shape[0], 'DDIs.')"
   ]
  },
  {
   "cell_type": "code",
   "execution_count": 21,
   "metadata": {},
   "outputs": [
    {
     "data": {
      "text/plain": [
       "Text(0.5, 1.0, 'Boxplot - PPIDM intersection with 3did2020-delta - Classes Scores')"
      ]
     },
     "execution_count": 21,
     "metadata": {},
     "output_type": "execute_result"
    },
    {
     "data": {
      "image/png": "[encoded data removed]",
      "text/plain": [
       "<Figure size 864x720 with 1 Axes>"
      ]
     },
     "metadata": {
      "needs_background": "light"
     },
     "output_type": "display_data"
    }
   ],
   "source": [
    "intersection2 = pd.concat([intersection_gold, intersection_silver, intersection_bronze])\n",
    "intersection2.SCORE = intersection2.SCORE.apply(float)\n",
    "plt.figure(figsize=(12,10))\n",
    "colors = ['#E5CC00','#D7D7D1','#D18A36']\n",
    "plot3 = sns.boxplot(x=\"CLASS\", y=\"SCORE\", data=intersection2, palette=sns.color_palette(colors))\n",
    "plot3.set_title('Boxplot - PPIDM intersection with 3did2020-delta - Classes Scores')"
   ]
  },
  {
   "cell_type": "code",
   "execution_count": 22,
   "metadata": {},
   "outputs": [
    {
     "data": {
      "text/html": [
       "<div>\n",
       "<style scoped>\n",
       "    .dataframe tbody tr th:only-of-type {\n",
       "        vertical-align: middle;\n",
       "    }\n",
       "\n",
       "    .dataframe tbody tr th {\n",
       "        vertical-align: top;\n",
       "    }\n",
       "\n",
       "    .dataframe thead th {\n",
       "        text-align: right;\n",
       "    }\n",
       "</style>\n",
       "<table border=\"1\" class=\"dataframe\">\n",
       "  <thead>\n",
       "    <tr style=\"text-align: right;\">\n",
       "      <th></th>\n",
       "      <th>count</th>\n",
       "      <th>mean</th>\n",
       "      <th>std</th>\n",
       "      <th>min</th>\n",
       "      <th>25%</th>\n",
       "      <th>50%</th>\n",
       "      <th>75%</th>\n",
       "      <th>max</th>\n",
       "    </tr>\n",
       "  </thead>\n",
       "  <tbody>\n",
       "    <tr>\n",
       "      <td>Gold</td>\n",
       "      <td>258.0</td>\n",
       "      <td>0.222342</td>\n",
       "      <td>0.228943</td>\n",
       "      <td>0.016016</td>\n",
       "      <td>0.060304</td>\n",
       "      <td>0.135611</td>\n",
       "      <td>0.294573</td>\n",
       "      <td>0.94752</td>\n",
       "    </tr>\n",
       "    <tr>\n",
       "      <td>Silver</td>\n",
       "      <td>419.0</td>\n",
       "      <td>0.228254</td>\n",
       "      <td>0.308558</td>\n",
       "      <td>0.015881</td>\n",
       "      <td>0.029069</td>\n",
       "      <td>0.076923</td>\n",
       "      <td>0.253400</td>\n",
       "      <td>1.00000</td>\n",
       "    </tr>\n",
       "    <tr>\n",
       "      <td>Bronze</td>\n",
       "      <td>123.0</td>\n",
       "      <td>0.099549</td>\n",
       "      <td>0.129960</td>\n",
       "      <td>0.015907</td>\n",
       "      <td>0.029711</td>\n",
       "      <td>0.063354</td>\n",
       "      <td>0.112224</td>\n",
       "      <td>1.00000</td>\n",
       "    </tr>\n",
       "  </tbody>\n",
       "</table>\n",
       "</div>"
      ],
      "text/plain": [
       "        count      mean       std       min       25%       50%       75%  \\\n",
       "Gold    258.0  0.222342  0.228943  0.016016  0.060304  0.135611  0.294573   \n",
       "Silver  419.0  0.228254  0.308558  0.015881  0.029069  0.076923  0.253400   \n",
       "Bronze  123.0  0.099549  0.129960  0.015907  0.029711  0.063354  0.112224   \n",
       "\n",
       "            max  \n",
       "Gold    0.94752  \n",
       "Silver  1.00000  \n",
       "Bronze  1.00000  "
      ]
     },
     "execution_count": 22,
     "metadata": {},
     "output_type": "execute_result"
    }
   ],
   "source": [
    "pd.DataFrame(group.describe().rename(columns={'SCORE':name}).squeeze() for name, group in intersection2.groupby('CLASS')).loc[['Gold', 'Silver', 'Bronze']]"
   ]
  },
  {
   "cell_type": "code",
   "execution_count": 5,
   "metadata": {
    "ExecuteTime": {
     "start_time": "2023-05-03T09:22:03.086004Z",
     "end_time": "2023-05-03T09:22:03.134068Z"
    }
   },
   "outputs": [
    {
     "data": {
      "text/plain": "           D1       D2     SCORE  INTACT_SCORE     INTACT_PV  DIP_SCORE   \n0     PF03906  PF03906  1.000000      1.000000  2.240000e-08        1.0  \\\n1     PF04848  PF04848  1.000000      1.000000  2.240000e-08        1.0   \n2     PF12604  PF12604  1.000000      1.000000  2.240000e-08        1.0   \n3     PF06134  PF06134  1.000000      1.000000  2.240000e-08        1.0   \n4     PF06369  PF06369  1.000000      1.000000  2.240000e-08        1.0   \n...       ...      ...       ...           ...           ...        ...   \n9170  PF00018  PF11594  0.015935      0.018785  9.877000e-11        0.0   \n9171  PF00307  PF02209  0.015890      0.017846  2.884000e-09        0.0   \n9172  PF00018  PF09058  0.015888      0.005091  2.885000e-64        0.0   \n9173  PF00179  PF12483  0.015885      0.036925  1.670000e-15        0.0   \n9174  PF00017  PF01437  0.015866      0.037014  2.049000e-35        0.0   \n\n            DIP_PV  MINT_SCORE       MINT_PV  HPRD_SCORE  ...  BIOGRID_SCORE   \n0     6.683000e-12    1.000000  1.372000e-07    0.000000  ...       0.000000  \\\n1     1.721000e-07    1.000000  1.372000e-07    0.000000  ...       0.000000   \n2     1.721000e-07    1.000000  1.372000e-07    0.000000  ...       0.000000   \n3     1.721000e-07    1.000000  1.372000e-07    0.000000  ...       0.000000   \n4     1.721000e-07    1.000000  1.372000e-07    0.000000  ...       0.000000   \n...            ...         ...           ...         ...  ...            ...   \n9170           NaN    0.045198  1.975000e-10    0.026925  ...       0.013921   \n9171           NaN    0.033289  2.743000e-05    0.020174  ...       0.013562   \n9172           NaN    0.010378  3.424000e-09    0.005280  ...       0.004135   \n9173           NaN    0.030831  1.796000e-02    0.000000  ...       0.025776   \n9174           NaN    0.003374  7.975000e-01    0.021175  ...       0.011205   \n\n        BIOGRID_PV  STRING_EXP_SCORE  STRING_EXP_PV  STRING_REST_SCORE   \n0              NaN          0.000000            NaN           0.000000  \\\n1              NaN          0.000000            NaN           0.000000   \n2              NaN          0.000000            NaN           0.000000   \n3              NaN          0.000000            NaN           0.000000   \n4              NaN          0.000000            NaN           0.000000   \n...            ...               ...            ...                ...   \n9170  6.694000e-10          0.004201   1.615000e-29           0.004031   \n9171  3.888000e-09          0.011272  1.582000e-168           0.011947   \n9172  1.807000e-24          0.003803   0.000000e+00           0.003855   \n9173  1.893000e-17          0.004243   2.261000e-24           0.004312   \n9174  7.414000e-08          0.007399   1.624000e-74           0.007165   \n\n      STRING_REST_PV  SIFTS_SCORE       SIFTS_PV  CLASS IN_GOLDSTANDARD  \n0                NaN     1.000000   8.661000e-18   Gold              no  \n1                NaN     1.000000   5.379000e-13   Gold             yes  \n2                NaN     1.000000   5.807000e-36   Gold             yes  \n3                NaN     1.000000  2.227000e-147   Gold             yes  \n4                NaN     1.000000  2.385000e-244   Gold             yes  \n...              ...          ...            ...    ...             ...  \n9170    2.598000e-26     0.000000            NaN   Gold              no  \n9171   2.033000e-176     0.000000            NaN   Gold              no  \n9172    0.000000e+00     0.021517   6.028000e-06   Gold              no  \n9173    2.987000e-23     0.000000            NaN   Gold              no  \n9174    4.662000e-65     0.015988   1.062000e-01   Gold              no  \n\n[9175 rows x 21 columns]",
      "text/html": "<div>\n<style scoped>\n    .dataframe tbody tr th:only-of-type {\n        vertical-align: middle;\n    }\n\n    .dataframe tbody tr th {\n        vertical-align: top;\n    }\n\n    .dataframe thead th {\n        text-align: right;\n    }\n</style>\n<table border=\"1\" class=\"dataframe\">\n  <thead>\n    <tr style=\"text-align: right;\">\n      <th></th>\n      <th>D1</th>\n      <th>D2</th>\n      <th>SCORE</th>\n      <th>INTACT_SCORE</th>\n      <th>INTACT_PV</th>\n      <th>DIP_SCORE</th>\n      <th>DIP_PV</th>\n      <th>MINT_SCORE</th>\n      <th>MINT_PV</th>\n      <th>HPRD_SCORE</th>\n      <th>...</th>\n      <th>BIOGRID_SCORE</th>\n      <th>BIOGRID_PV</th>\n      <th>STRING_EXP_SCORE</th>\n      <th>STRING_EXP_PV</th>\n      <th>STRING_REST_SCORE</th>\n      <th>STRING_REST_PV</th>\n      <th>SIFTS_SCORE</th>\n      <th>SIFTS_PV</th>\n      <th>CLASS</th>\n      <th>IN_GOLDSTANDARD</th>\n    </tr>\n  </thead>\n  <tbody>\n    <tr>\n      <th>0</th>\n      <td>PF03906</td>\n      <td>PF03906</td>\n      <td>1.000000</td>\n      <td>1.000000</td>\n      <td>2.240000e-08</td>\n      <td>1.0</td>\n      <td>6.683000e-12</td>\n      <td>1.000000</td>\n      <td>1.372000e-07</td>\n      <td>0.000000</td>\n      <td>...</td>\n      <td>0.000000</td>\n      <td>NaN</td>\n      <td>0.000000</td>\n      <td>NaN</td>\n      <td>0.000000</td>\n      <td>NaN</td>\n      <td>1.000000</td>\n      <td>8.661000e-18</td>\n      <td>Gold</td>\n      <td>no</td>\n    </tr>\n    <tr>\n      <th>1</th>\n      <td>PF04848</td>\n      <td>PF04848</td>\n      <td>1.000000</td>\n      <td>1.000000</td>\n      <td>2.240000e-08</td>\n      <td>1.0</td>\n      <td>1.721000e-07</td>\n      <td>1.000000</td>\n      <td>1.372000e-07</td>\n      <td>0.000000</td>\n      <td>...</td>\n      <td>0.000000</td>\n      <td>NaN</td>\n      <td>0.000000</td>\n      <td>NaN</td>\n      <td>0.000000</td>\n      <td>NaN</td>\n      <td>1.000000</td>\n      <td>5.379000e-13</td>\n      <td>Gold</td>\n      <td>yes</td>\n    </tr>\n    <tr>\n      <th>2</th>\n      <td>PF12604</td>\n      <td>PF12604</td>\n      <td>1.000000</td>\n      <td>1.000000</td>\n      <td>2.240000e-08</td>\n      <td>1.0</td>\n      <td>1.721000e-07</td>\n      <td>1.000000</td>\n      <td>1.372000e-07</td>\n      <td>0.000000</td>\n      <td>...</td>\n      <td>0.000000</td>\n      <td>NaN</td>\n      <td>0.000000</td>\n      <td>NaN</td>\n      <td>0.000000</td>\n      <td>NaN</td>\n      <td>1.000000</td>\n      <td>5.807000e-36</td>\n      <td>Gold</td>\n      <td>yes</td>\n    </tr>\n    <tr>\n      <th>3</th>\n      <td>PF06134</td>\n      <td>PF06134</td>\n      <td>1.000000</td>\n      <td>1.000000</td>\n      <td>2.240000e-08</td>\n      <td>1.0</td>\n      <td>1.721000e-07</td>\n      <td>1.000000</td>\n      <td>1.372000e-07</td>\n      <td>0.000000</td>\n      <td>...</td>\n      <td>0.000000</td>\n      <td>NaN</td>\n      <td>0.000000</td>\n      <td>NaN</td>\n      <td>0.000000</td>\n      <td>NaN</td>\n      <td>1.000000</td>\n      <td>2.227000e-147</td>\n      <td>Gold</td>\n      <td>yes</td>\n    </tr>\n    <tr>\n      <th>4</th>\n      <td>PF06369</td>\n      <td>PF06369</td>\n      <td>1.000000</td>\n      <td>1.000000</td>\n      <td>2.240000e-08</td>\n      <td>1.0</td>\n      <td>1.721000e-07</td>\n      <td>1.000000</td>\n      <td>1.372000e-07</td>\n      <td>0.000000</td>\n      <td>...</td>\n      <td>0.000000</td>\n      <td>NaN</td>\n      <td>0.000000</td>\n      <td>NaN</td>\n      <td>0.000000</td>\n      <td>NaN</td>\n      <td>1.000000</td>\n      <td>2.385000e-244</td>\n      <td>Gold</td>\n      <td>yes</td>\n    </tr>\n    <tr>\n      <th>...</th>\n      <td>...</td>\n      <td>...</td>\n      <td>...</td>\n      <td>...</td>\n      <td>...</td>\n      <td>...</td>\n      <td>...</td>\n      <td>...</td>\n      <td>...</td>\n      <td>...</td>\n      <td>...</td>\n      <td>...</td>\n      <td>...</td>\n      <td>...</td>\n      <td>...</td>\n      <td>...</td>\n      <td>...</td>\n      <td>...</td>\n      <td>...</td>\n      <td>...</td>\n      <td>...</td>\n    </tr>\n    <tr>\n      <th>9170</th>\n      <td>PF00018</td>\n      <td>PF11594</td>\n      <td>0.015935</td>\n      <td>0.018785</td>\n      <td>9.877000e-11</td>\n      <td>0.0</td>\n      <td>NaN</td>\n      <td>0.045198</td>\n      <td>1.975000e-10</td>\n      <td>0.026925</td>\n      <td>...</td>\n      <td>0.013921</td>\n      <td>6.694000e-10</td>\n      <td>0.004201</td>\n      <td>1.615000e-29</td>\n      <td>0.004031</td>\n      <td>2.598000e-26</td>\n      <td>0.000000</td>\n      <td>NaN</td>\n      <td>Gold</td>\n      <td>no</td>\n    </tr>\n    <tr>\n      <th>9171</th>\n      <td>PF00307</td>\n      <td>PF02209</td>\n      <td>0.015890</td>\n      <td>0.017846</td>\n      <td>2.884000e-09</td>\n      <td>0.0</td>\n      <td>NaN</td>\n      <td>0.033289</td>\n      <td>2.743000e-05</td>\n      <td>0.020174</td>\n      <td>...</td>\n      <td>0.013562</td>\n      <td>3.888000e-09</td>\n      <td>0.011272</td>\n      <td>1.582000e-168</td>\n      <td>0.011947</td>\n      <td>2.033000e-176</td>\n      <td>0.000000</td>\n      <td>NaN</td>\n      <td>Gold</td>\n      <td>no</td>\n    </tr>\n    <tr>\n      <th>9172</th>\n      <td>PF00018</td>\n      <td>PF09058</td>\n      <td>0.015888</td>\n      <td>0.005091</td>\n      <td>2.885000e-64</td>\n      <td>0.0</td>\n      <td>NaN</td>\n      <td>0.010378</td>\n      <td>3.424000e-09</td>\n      <td>0.005280</td>\n      <td>...</td>\n      <td>0.004135</td>\n      <td>1.807000e-24</td>\n      <td>0.003803</td>\n      <td>0.000000e+00</td>\n      <td>0.003855</td>\n      <td>0.000000e+00</td>\n      <td>0.021517</td>\n      <td>6.028000e-06</td>\n      <td>Gold</td>\n      <td>no</td>\n    </tr>\n    <tr>\n      <th>9173</th>\n      <td>PF00179</td>\n      <td>PF12483</td>\n      <td>0.015885</td>\n      <td>0.036925</td>\n      <td>1.670000e-15</td>\n      <td>0.0</td>\n      <td>NaN</td>\n      <td>0.030831</td>\n      <td>1.796000e-02</td>\n      <td>0.000000</td>\n      <td>...</td>\n      <td>0.025776</td>\n      <td>1.893000e-17</td>\n      <td>0.004243</td>\n      <td>2.261000e-24</td>\n      <td>0.004312</td>\n      <td>2.987000e-23</td>\n      <td>0.000000</td>\n      <td>NaN</td>\n      <td>Gold</td>\n      <td>no</td>\n    </tr>\n    <tr>\n      <th>9174</th>\n      <td>PF00017</td>\n      <td>PF01437</td>\n      <td>0.015866</td>\n      <td>0.037014</td>\n      <td>2.049000e-35</td>\n      <td>0.0</td>\n      <td>NaN</td>\n      <td>0.003374</td>\n      <td>7.975000e-01</td>\n      <td>0.021175</td>\n      <td>...</td>\n      <td>0.011205</td>\n      <td>7.414000e-08</td>\n      <td>0.007399</td>\n      <td>1.624000e-74</td>\n      <td>0.007165</td>\n      <td>4.662000e-65</td>\n      <td>0.015988</td>\n      <td>1.062000e-01</td>\n      <td>Gold</td>\n      <td>no</td>\n    </tr>\n  </tbody>\n</table>\n<p>9175 rows × 21 columns</p>\n</div>"
     },
     "execution_count": 5,
     "metadata": {},
     "output_type": "execute_result"
    }
   ],
   "source": [
    "real_gold = pd.read_csv(\"../../PPIDMdata_2021/OutputData/PPIDM_GoldDDIs.csv\", sep=\";\")\n",
    "real_gold"
   ]
  },
  {
   "cell_type": "code",
   "execution_count": 11,
   "outputs": [
    {
     "data": {
      "text/plain": "IN_PPIDM_GOLD\nyes    7341\nno     1759\nName: count, dtype: int64"
     },
     "execution_count": 11,
     "metadata": {},
     "output_type": "execute_result"
    }
   ],
   "source": [
    "real_gold_tuples = list(zip(real_gold['D1'], real_gold['D2']))\n",
    "gold['IN_PPIDM_GOLD'] = gold.apply(lambda row: 'yes' if (row['D1'], row['D2']) in real_gold_tuples else 'no', axis=1)\n",
    "gold.IN_PPIDM_GOLD.value_counts()"
   ],
   "metadata": {
    "collapsed": false,
    "ExecuteTime": {
     "start_time": "2023-05-03T09:26:29.995524Z",
     "end_time": "2023-05-03T09:26:31.447534Z"
    }
   }
  },
  {
   "cell_type": "code",
   "execution_count": null,
   "outputs": [],
   "source": [],
   "metadata": {
    "collapsed": false
   }
  }
 ],
 "metadata": {
  "kernelspec": {
   "display_name": "Python 3 (ipykernel)",
   "language": "python",
   "name": "python3"
  },
  "language_info": {
   "codemirror_mode": {
    "name": "ipython",
    "version": 3
   },
   "file_extension": ".py",
   "mimetype": "text/x-python",
   "name": "python",
   "nbconvert_exporter": "python",
   "pygments_lexer": "ipython3",
   "version": "3.10.7"
  }
 },
 "nbformat": 4,
 "nbformat_minor": 2
}
